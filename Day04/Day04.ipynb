{
 "cells": [
  {
   "cell_type": "markdown",
   "metadata": {},
   "source": [
    "# Question 1 : Research on whether addition, subtraction, multiplication, division, floor division and modulo operations be performed on complex numbers. Based on your study, implement a Python program to demonstrate these operation"
   ]
  },
  {
   "cell_type": "code",
   "execution_count": 15,
   "metadata": {},
   "outputs": [
    {
     "name": "stdout",
     "output_type": "stream",
     "text": [
      "Addition of two complex numbers :  (7+10j)\n",
      "Subtraction of two complex numbers :  (1-4j)\n",
      "Multiplication of two complex numbers :  (-9+37j)\n",
      "Division of two complex numbers :  (0.5689655172413794-0.32758620689655177j)\n"
     ]
    }
   ],
   "source": [
    "a=(4+3j)\n",
    "b=(3+7j)\n",
    "print(\"Addition of two complex numbers : \",a+b)\n",
    "print(\"Subtraction of two complex numbers : \",a-b)\n",
    "print(\"Multiplication of two complex numbers : \",a*b)\n",
    "print(\"Division of two complex numbers : \",a / b)\n"
   ]
  },
  {
   "cell_type": "code",
   "execution_count": 16,
   "metadata": {},
   "outputs": [
    {
     "name": "stdout",
     "output_type": "stream",
     "text": [
      "mod number : 5\n",
      "floor division: 0\n"
     ]
    }
   ],
   "source": [
    "a=5\n",
    "b=10\n",
    "print(\"mod number :\",a%b)\n",
    "print(\"floor division:\",a//b)"
   ]
  },
  {
   "cell_type": "markdown",
   "metadata": {},
   "source": [
    "# Question 2 : Research on range() functions and its parameters. Create a markdown cell and write in your own words (no copy-paste from google please) what you understand about it. Implement a small program of your choice on the same."
   ]
  },
  {
   "cell_type": "markdown",
   "metadata": {},
   "source": [
    "l=[10,11,12,13,14,15,16,17,18,19,20,]\n",
    "\n",
    "for i in range(6):\n",
    "    print(\"range of value:\",i)\n",
    "    \n",
    "total list to filter index range of value =0 to 5 output showing"
   ]
  },
  {
   "cell_type": "markdown",
   "metadata": {},
   "source": [
    "# Question 3:  Consider two numbers. Perform their subtraction and if the result of subtraction is greater than 25, print their multiplication result else print their division result. "
   ]
  },
  {
   "cell_type": "code",
   "execution_count": 26,
   "metadata": {},
   "outputs": [
    {
     "name": "stdout",
     "output_type": "stream",
     "text": [
      "subtraction result= 40\n"
     ]
    }
   ],
   "source": [
    "a=50\n",
    "b=10\n",
    "x=a-b\n",
    "y=a*b\n",
    "if x>25:\n",
    "    print(\"subtraction result=\",x)\n"
   ]
  },
  {
   "cell_type": "markdown",
   "metadata": {},
   "source": [
    "# Question 4: Consider a list of 10 elements of integer values. If the number in the list is divisible by 2, print the result as \"square of that number minus 2\". "
   ]
  },
  {
   "cell_type": "code",
   "execution_count": 44,
   "metadata": {},
   "outputs": [
    {
     "name": "stdout",
     "output_type": "stream",
     "text": [
      "3 square of that number minus 2\n",
      "4 square of that number minus 2\n",
      "5 square of that number minus 2\n",
      "6 square of that number minus 2\n",
      "7 square of that number minus 2\n",
      "8 square of that number minus 2\n",
      "9 square of that number minus 2\n"
     ]
    }
   ],
   "source": [
    "L=[1,2,3,4,5,6,7,8,9,10]\n",
    "for i in L:\n",
    "\n",
    "    if i//2**2:\n",
    "\n",
    "        print(i-1,\"square of that number minus 2\")"
   ]
  },
  {
   "cell_type": "markdown",
   "metadata": {},
   "source": [
    "# Consider a list of 10 elements. Print all the elements in the list which are greater than 7 when that number is divided 2. "
   ]
  },
  {
   "cell_type": "code",
   "execution_count": 39,
   "metadata": {},
   "outputs": [],
   "source": [
    "L=[1,2,3,4,5,6,7,8,9,10]\n",
    "for i in L:\n",
    "\n",
    "    if i//2 > 7 :\n",
    "\n",
    "        print(i)"
   ]
  },
  {
   "cell_type": "code",
   "execution_count": null,
   "metadata": {},
   "outputs": [],
   "source": []
  }
 ],
 "metadata": {
  "kernelspec": {
   "display_name": "Python 3",
   "language": "python",
   "name": "python3"
  },
  "language_info": {
   "codemirror_mode": {
    "name": "ipython",
    "version": 3
   },
   "file_extension": ".py",
   "mimetype": "text/x-python",
   "name": "python",
   "nbconvert_exporter": "python",
   "pygments_lexer": "ipython3",
   "version": "3.7.4"
  }
 },
 "nbformat": 4,
 "nbformat_minor": 2
}
